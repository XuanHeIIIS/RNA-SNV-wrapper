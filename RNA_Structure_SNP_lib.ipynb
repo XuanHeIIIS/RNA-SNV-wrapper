{
 "cells": [
  {
   "cell_type": "markdown",
   "metadata": {},
   "source": [
    "### Python wrappers for invoking RNA structure abrrevation predicition methods RNAsnp and remuRNA\n",
    "Author: Milad Miladi\n",
    "For details about the methods please refer to their corrsponding documentations:\n",
    "\n",
    "- https://www.ncbi.nlm.nih.gov/CBBresearch/Przytycka/index.cgi#remurna\n",
    "- http://rth.dk/resources/rnasnp/"
   ]
  },
  {
   "cell_type": "code",
   "execution_count": 2,
   "metadata": {
    "collapsed": true
   },
   "outputs": [],
   "source": [
    "####     \n",
    "from Bio import SeqIO\n",
    "from Bio.SeqRecord import SeqRecord\n",
    "from Bio.Seq import Seq\n",
    "from Bio.Alphabet import IUPAC\n",
    "import os\n",
    "import pandas as pd\n",
    "from tempfile import NamedTemporaryFile\n",
    "from subprocess import Popen, PIPE\n",
    "from StringIO import StringIO\n",
    "\n",
    "#########################################\n",
    "## Configuration\n",
    "## Please set these two paths accordingly\n",
    "\n",
    "REMURNA_PATH = '/home/milad/1Downloads/remuRNA/'\n",
    "RNASNPPATH='/home/milad/1Downloads/RNAsnp-1.2/'\n",
    "\n",
    "def run_RNAsnp(wild_fa, snp_tags, window=None):\n",
    "    \"\"\"\n",
    "    A python wrapper invoking RNAsnp tool. \n",
    "    Please check RNAsnp documentation for details.\n",
    "    \n",
    "    Call example: run_RNAsnp('./wild.fa', ['G20C'])\n",
    "    Parameters\n",
    "    ----------\n",
    "    wild_fa : str\n",
    "        Fasta file name containing one RNA sequence \n",
    "    snp_tags : list\n",
    "        Set of SNP tags required to be evaluatued on the input sequence\n",
    "    window : int \n",
    "        If None, the RNAsnp window (-w) size. Windows larger than 800 will be passed as 800.\n",
    "\n",
    "    Returns\n",
    "    -------\n",
    "    dataframe\n",
    "        Pandas table of standard output\n",
    "\n",
    "    \"\"\"\n",
    "    \n",
    "    # Write SNP tags to a temporary file, TODO: Remove the temporary file?\n",
    "    snp_file = NamedTemporaryFile(delete=False)\n",
    "    snp_file.write('\\n'.join(snp_tags))\n",
    "    snp_file.close()\n",
    "    \n",
    "    if not os.path.isfile(wild_fa):\n",
    "        raise RuntimeError (\"Input fasta %s does not exist\" % in_fasta_file)\n",
    "    \n",
    "    # Make a shell command line\n",
    "    cmd = 'export RNASNPPATH=\"{}\" ; {}/Progs/RNAsnp -f {} -s {} '.format(RNASNPPATH, RNASNPPATH, wild_fa, snp_file.name)\n",
    "    if window is not None:\n",
    "        if window > 800:\n",
    "            print \"WARNING RNAsnp window reduced to max possible: 800\"\n",
    "            window = 800\n",
    "        cmd += '-w {}'.format(int(window))\n",
    "    # print cmd\n",
    "    p = Popen( cmd , stdin=PIPE, shell=True, stdout=PIPE, stderr=PIPE)\n",
    "    out, err = p.communicate()\n",
    "    if err:\n",
    "        #raise RuntimeError(\"Error in calling RNAsnp\\n{}\\n{}\\n\".format(out, err))\n",
    "        print \"Error in calling RNAsnp\\n{}\\n{}\\n\".format(out, err)\n",
    "    # print out\n",
    "    out_cleaned = \"\"\n",
    "    for line in out.split('\\n'):\n",
    "        if 'error' in line.lower():\n",
    "            raise RuntimeError(\"RNASNP returned error for: {} message is:{}\".format(wild_fa, line))\n",
    "        elif 'warning' in line.lower():\n",
    "            print (\"ERROR: RNASNP returned warning for: {} message is:{}\".format(wild_fa, line))\n",
    "        else:\n",
    "            out_cleaned += line+\"\\n\"\n",
    "            \n",
    "    df_RNAsnp = pd.read_table(StringIO(out_cleaned))\n",
    "    return  df_RNAsnp #.add_suffix('RNAsnp:')\n",
    "\n",
    "\n",
    "def run_remuRNA(wild_fa, snp_tags, window=None):\n",
    "    \"\"\"\n",
    "    A python wrapper invoking remuRNA tool. \n",
    "    Please check remuRNA documentation for details.\n",
    "    Call example: run_remuRNA('./wild.fa', ['G20C'])\n",
    "    Parameters\n",
    "    ----------\n",
    "    wild_fa : str\n",
    "        Fasta file name containing one RNA sequence \n",
    "    snp_tags : list\n",
    "        Set of SNP tags required to be evaluatued on the input sequence.\n",
    "        Warning: remuRNA accepts only a single tag in each call.\n",
    "\n",
    "    Returns\n",
    "    -------\n",
    "    dataframe\n",
    "        Pandas table of standard output\n",
    "\n",
    "    \"\"\"\n",
    "    assert(len(snp_tags)==1)\n",
    "    if not os.path.isfile(wild_fa):\n",
    "        raise RuntimeError (\"Input fasta %s does not exist\" % in_fasta_file)\n",
    "\n",
    "    # Write RNA sequence and SNP tags to a temporary file, TODO: Remove the temporary file?\n",
    "    tmp_fa = NamedTemporaryFile(suffix='.fa', delete=False)\n",
    "    with open (wild_fa) as in_fa_handle:\n",
    "        for line in in_fa_handle:\n",
    "            tmp_fa.write(line)\n",
    "    tmp_fa.write('\\n'.join(['*'+tag for tag in snp_tags]))\n",
    "    tmp_fa.close()\n",
    "   \n",
    "    # Make a shell command line\n",
    "    cmd = REMURNA_PATH+'/remuRNA {} -p=3 '.format(tmp_fa.name)\n",
    "    if window is not None:\n",
    "        cmd += '-w={}'.format(int(window))\n",
    "    # print cmd\n",
    "    p = Popen( cmd , stdin=PIPE, shell=True, stdout=PIPE, stderr=PIPE)\n",
    "    out, err = p.communicate()\n",
    "    if err:\n",
    "        raise RuntimeError(\"Error in calling remuRNA\\n{}\\n{}\\n\".format(out, err))\n",
    "\n",
    "    # print out\n",
    "    df = pd.read_table(StringIO(out))\n",
    "    return  df"
   ]
  },
  {
   "cell_type": "markdown",
   "metadata": {},
   "source": [
    "### Example calls"
   ]
  },
  {
   "cell_type": "code",
   "execution_count": 3,
   "metadata": {
    "collapsed": false
   },
   "outputs": [
    {
     "data": {
      "text/html": [
       "<div>\n",
       "<table border=\"1\" class=\"dataframe\">\n",
       "  <thead>\n",
       "    <tr style=\"text-align: right;\">\n",
       "      <th></th>\n",
       "      <th>SNP</th>\n",
       "      <th>w</th>\n",
       "      <th>Slen</th>\n",
       "      <th>GC</th>\n",
       "      <th>interval</th>\n",
       "      <th>d_max</th>\n",
       "      <th>p-value</th>\n",
       "      <th>interval.1</th>\n",
       "      <th>r_min</th>\n",
       "      <th>p-value.1</th>\n",
       "    </tr>\n",
       "  </thead>\n",
       "  <tbody>\n",
       "    <tr>\n",
       "      <th>0</th>\n",
       "      <td>U1013C</td>\n",
       "      <td>200</td>\n",
       "      <td>3344</td>\n",
       "      <td>0.5411</td>\n",
       "      <td>975-1025</td>\n",
       "      <td>0.2432</td>\n",
       "      <td>0.0724</td>\n",
       "      <td>998-1052</td>\n",
       "      <td>0.0615</td>\n",
       "      <td>0.0932</td>\n",
       "    </tr>\n",
       "  </tbody>\n",
       "</table>\n",
       "</div>"
      ],
      "text/plain": [
       "      SNP    w  Slen      GC  interval   d_max  p-value interval.1   r_min  \\\n",
       "0  U1013C  200  3344  0.5411  975-1025  0.2432   0.0724   998-1052  0.0615   \n",
       "\n",
       "   p-value.1  \n",
       "0     0.0932  "
      ]
     },
     "execution_count": 3,
     "metadata": {},
     "output_type": "execute_result"
    }
   ],
   "source": [
    "run_RNAsnp('./seq1.fa', ['U1013C'], window=200)"
   ]
  },
  {
   "cell_type": "code",
   "execution_count": 6,
   "metadata": {
    "collapsed": false
   },
   "outputs": [
    {
     "data": {
      "text/html": [
       "<div>\n",
       "<table border=\"1\" class=\"dataframe\">\n",
       "  <thead>\n",
       "    <tr style=\"text-align: right;\">\n",
       "      <th></th>\n",
       "      <th>SNP</th>\n",
       "      <th>MFE(wt)</th>\n",
       "      <th>MFE(mu)</th>\n",
       "      <th>dMFE</th>\n",
       "      <th>H(wt||mu)</th>\n",
       "      <th>GCratio</th>\n",
       "    </tr>\n",
       "  </thead>\n",
       "  <tbody>\n",
       "    <tr>\n",
       "      <th>0</th>\n",
       "      <td>T1013C</td>\n",
       "      <td>-56.466</td>\n",
       "      <td>-56.406</td>\n",
       "      <td>-0.06</td>\n",
       "      <td>2.317</td>\n",
       "      <td>0.541353</td>\n",
       "    </tr>\n",
       "  </tbody>\n",
       "</table>\n",
       "</div>"
      ],
      "text/plain": [
       "      SNP  MFE(wt)  MFE(mu)  dMFE  H(wt||mu)   GCratio\n",
       "0  T1013C  -56.466  -56.406 -0.06      2.317  0.541353"
      ]
     },
     "execution_count": 6,
     "metadata": {},
     "output_type": "execute_result"
    }
   ],
   "source": [
    "run_remuRNA('./seq1.fa', ['U1013C'], window=200)"
   ]
  },
  {
   "cell_type": "markdown",
   "metadata": {},
   "source": [
    "## Run RaSE\n",
    "\n",
    "https://github.com/fabriziocosta/RaSE-RNA-Structural-Stability-Estimator"
   ]
  },
  {
   "cell_type": "code",
   "execution_count": 6,
   "metadata": {
    "collapsed": false
   },
   "outputs": [
    {
     "name": "stdout",
     "output_type": "stream",
     "text": [
      "Rase-Score: 0.187300630503\n"
     ]
    },
    {
     "data": {
      "text/plain": [
       "0.18730063050346024"
      ]
     },
     "execution_count": 6,
     "metadata": {},
     "output_type": "execute_result"
    }
   ],
   "source": [
    "import os\n",
    "import sys\n",
    "rase_root_dir = '../../RaSE/RaSE_git/'\n",
    "rase_src_dir = os.path.join(rase_root_dir, 'code')\n",
    "sys.path = [rase_src_dir] + sys.path\n",
    "\n",
    "eden_root_dir = '../../RaSE/EDeN/'\n",
    "eden_src_dir = os.path.join(eden_root_dir)\n",
    "sys.path = [eden_src_dir] + sys.path\n",
    "\n",
    "from RaSE import make_fold, make_fold_vectorize\n",
    "def run_RaSE(wild_seq, snp_tags, window=150, avg_bp_prob_cutoff=0.01,\n",
    "                          hard_threshold=0.5,\n",
    "                          max_num_edges=3,):\n",
    "    assert(len(snp_tags)==1)\n",
    "    import re\n",
    "    \n",
    "        \n",
    "\n",
    "    matches = re.match(r'(\\D)(\\d+)(\\D)', snp_tags[0])\n",
    "    tag_tup = matches.groups()\n",
    "    tag_tup = (tag_tup[0], int(tag_tup[1])-1, tag_tup[2]) \n",
    "    \n",
    "    fold = make_fold(window_size=window,\n",
    "                          max_bp_span=window-50,\n",
    "                          avg_bp_prob_cutoff=avg_bp_prob_cutoff,\n",
    "                          hard_threshold=hard_threshold,\n",
    "                          max_num_edges=max_num_edges,\n",
    "                          no_lonely_bps=True,\n",
    "                          nesting=True)\n",
    "    fold_vectorize = make_fold_vectorize(complexity=3, nbits=15, fold=fold)\n",
    "    from RaSE import compute_SNP_stability\n",
    "    score = compute_SNP_stability(wild_seq, snp_tag=tag_tup, fold_vectorize=fold_vectorize)\n",
    "    print 'Rase-Score:', score\n",
    "    return score\n",
    "\n",
    "run_RaSE(\"ACGUGGCUG\",['C2G'])"
   ]
  }
 ],
 "metadata": {
  "anaconda-cloud": {},
  "kernelspec": {
   "display_name": "Python [default]",
   "language": "python",
   "name": "python2"
  },
  "language_info": {
   "codemirror_mode": {
    "name": "ipython",
    "version": 2
   },
   "file_extension": ".py",
   "mimetype": "text/x-python",
   "name": "python",
   "nbconvert_exporter": "python",
   "pygments_lexer": "ipython2",
   "version": "2.7.13"
  }
 },
 "nbformat": 4,
 "nbformat_minor": 0
}
